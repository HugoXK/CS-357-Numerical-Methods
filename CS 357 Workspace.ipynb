{
 "cells": [
  {
   "cell_type": "code",
   "execution_count": 21,
   "metadata": {},
   "outputs": [],
   "source": [
    "import numpy as np\n",
    "import numpy.linalg as la\n",
    "import matplotlib.pyplot as plt\n",
    "from sympy import *"
   ]
  },
  {
   "cell_type": "code",
   "execution_count": 22,
   "metadata": {},
   "outputs": [],
   "source": [
    "def n_degree_taylor(formula, x, x_0, n):\n",
    "    '''\n",
    "    Given the analytic expression, x and x_0, calculate\n",
    "    its nth degree Taylor polynomial\n",
    "    Note: Variable is defaulted to x\n",
    "    '''\n",
    "    var_x = Symbol('x')\n",
    "    acc = 0\n",
    "    # Be careful, n+1 because it's up to n\n",
    "    for i in range(n+1):\n",
    "        acc += diff(formula, var_x, i).subs(var_x, x_0)/factorial(i)*(x-x_0)**i\n",
    "    return float(acc)"
   ]
  },
  {
   "cell_type": "code",
   "execution_count": 23,
   "metadata": {},
   "outputs": [],
   "source": [
    "def n_degree_taylor_derivative(formula, x, x_0, n, n_d):\n",
    "    '''\n",
    "    Given the analytic expression, x and x_0, calculate\n",
    "    its n_d-th derivative based on n-th degree Taylor polynomial\n",
    "    Note: Variable is defaulted to x\n",
    "    \n",
    "    Parameters:\n",
    "        formula -- analytic expression in sympy\n",
    "        x -- desired point\n",
    "        x_0 -- expansion point\n",
    "        n -- highest degree of polynomial\n",
    "        n_d -- degree of derivative\n",
    "\n",
    "    Returns:\n",
    "        n_d-the derivative based on n-th degree Taylor polynomial\n",
    "    '''\n",
    "    var_x = Symbol('x')\n",
    "    acc = 0\n",
    "    # Be careful, n+1 because it's up to n\n",
    "    for i in range(n+1):\n",
    "        acc += diff(formula, var_x, i).subs(var_x, x_0)/factorial(i)*(var_x-x_0)**i\n",
    "    derivative = diff(acc, var_x, n_d)\n",
    "    return float(derivative.subs(var_x, x))"
   ]
  },
  {
   "cell_type": "code",
   "execution_count": 24,
   "metadata": {},
   "outputs": [],
   "source": [
    "def decimal_to_floating_point(x, n, p):\n",
    "    \"\"\"\n",
    "    Convert a positive decimal number x into its normalized floating-point\n",
    "    form.\n",
    "    \n",
    "    Parameters\n",
    "    ----------\n",
    "    x: float\n",
    "        Input positive decimal number\n",
    "    n: int\n",
    "        Number of binary bits in fraction\n",
    "    p: int\n",
    "        Exponent range\n",
    "\n",
    "    Returns\n",
    "    -------\n",
    "    f: str\n",
    "        String of length n representing the fraction part of x in the given floating-point system\n",
    "    m: int\n",
    "        Exponent of x in the given floating-point system\n",
    "    \"\"\"\n",
    "\n",
    "    # your implementation goes here\n",
    "\n",
    "    integer_part = int(x)\n",
    "    decimal_part = x - integer_part\n",
    "    int_bin = bin(integer_part)[2:]\n",
    "\n",
    "    def dec2bin(x):\n",
    "        x -= int(x)\n",
    "        bins = []\n",
    "\n",
    "        while x:\n",
    "            x *= 2\n",
    "            bins.append(1 if x>=1. else 0)\n",
    "            x -= int(x)\n",
    "\n",
    "        return bins\n",
    "    decimal_bins = dec2bin(decimal_part)\n",
    "    if integer_part != 0:\n",
    "        m = len(str(int_bin)) - 1\n",
    "        f = str(int_bin)[1:]\n",
    "        for i in decimal_bins:\n",
    "            f += str(i)\n",
    "        if len(f) > n:\n",
    "            f = f[:n]\n",
    "        elif len(f) < n:\n",
    "            f += (n - len(f)) * '0'\n",
    "\n",
    "    if integer_part == 0:\n",
    "        m = -(decimal_bins.index(1) + 1)\n",
    "        f = ''\n",
    "        for i in range(decimal_bins.index(1) + 1, len(decimal_bins)):\n",
    "            f += str(decimal_bins[i])\n",
    "        if len(f) > n:\n",
    "            f = f[:n]\n",
    "        elif len(f) < n:\n",
    "            f += (n - len(f)) * '0'\n",
    "\n",
    "    return f, m\n",
    "\n",
    "def bin2dec(x):\n",
    "    x = str(x)\n",
    "    a = 0\n",
    "    for i in range(2, len(x)):\n",
    "        a += int(x[i]) * 2 ** (-i + 1)\n",
    "    return a"
   ]
  },
  {
   "cell_type": "code",
   "execution_count": 25,
   "metadata": {},
   "outputs": [],
   "source": [
    "def hessian(f, X):\n",
    "    x0, y0 = X[0, 0], X[1,0]\n",
    "    x, y = Symbol('x'), Symbol('y')\n",
    "    A = Matrix([f])\n",
    "    B = Matrix([x, y])\n",
    "    Hessian = A.jacobian(B).jacobian(B).subs({x:x0, y:y0})\n",
    "    return np.array(Hessian).astype(np.float64)\n",
    "\n",
    "def gradient(f, X):\n",
    "    x0, y0 = X[0, 0], X[1,0]\n",
    "    x, y = Symbol('x'), Symbol('y')\n",
    "    A = Matrix([f])\n",
    "    B = Matrix([x, y])\n",
    "    Gradient = A.jacobian(B).subs({x:x0, y:y0})\n",
    "    return np.array(Gradient).astype(np.float64).T\n",
    "\n",
    "def newtons_method(f, x_init, tol):\n",
    "    x_new = x_init\n",
    "    x_prev = np.random.randn(x_init.shape[0])\n",
    "    cnt = 0\n",
    "    while(la.norm(gradient(f, x_new)) > tol):\n",
    "        x_prev = x_new\n",
    "        print(x_prev)\n",
    "        s = -la.solve(hessian(f, x_prev), gradient(f, x_prev))\n",
    "        x_new = x_prev + s\n",
    "        print(x_new)\n",
    "        cnt += 1\n",
    "    return x_new, cnt"
   ]
  },
  {
   "cell_type": "code",
   "execution_count": 26,
   "metadata": {},
   "outputs": [
    {
     "name": "stdout",
     "output_type": "stream",
     "text": [
      "[[-0.87475  0.61725  0.5145 ]\n",
      " [ 0.08625  0.07425  0.0315 ]\n",
      " [ 0.88825 -0.23275  0.9165 ]\n",
      " [-0.09975 -0.45875 -1.4625 ]]\n"
     ]
    },
    {
     "data": {
      "text/plain": [
       "array([1.87479359, 1.39307254, 0.1085284 ])"
      ]
     },
     "execution_count": 26,
     "metadata": {},
     "output_type": "execute_result"
    }
   ],
   "source": [
    "# Singular Values for PCA Mean\n",
    "\n",
    "import numpy.linalg as la\n",
    "\n",
    "X = np.array([[-1.033, 1.814, 0.933], [-0.072, 1.271, 0.450], [0.730, 0.964, 1.335], [-0.258, 0.738, -1.044]])\n",
    "\n",
    "X_zeroed = X - X.sum(axis = 0)/X.shape[0]\n",
    "u, s, vt = la.svd(X_zeroed)\n",
    "print(X_zeroed)\n",
    "s\n"
   ]
  },
  {
   "cell_type": "code",
   "execution_count": 17,
   "metadata": {},
   "outputs": [
    {
     "name": "stdout",
     "output_type": "stream",
     "text": [
      "[[ 0.703    0.75325 -0.63725]\n",
      " [-1.265   -0.67675  1.29075]\n",
      " [ 0.647    0.16525 -0.36125]\n",
      " [-0.085   -0.24175 -0.29225]]\n"
     ]
    },
    {
     "data": {
      "text/plain": [
       "array([2.36773931, 0.484151  , 0.28078085])"
      ]
     },
     "execution_count": 17,
     "metadata": {},
     "output_type": "execute_result"
    }
   ],
   "source": [
    "X = np.array([[0.193, 0.289, -0.624], [-1.775, -1.141, 1.304], [0.137, -0.299, -0.348], [-0.595, -0.706, -0.279]])\n",
    "X_zeroed = X - X.sum(axis = 0)/X.shape[0]\n",
    "u, s, vt = la.svd(X_zeroed)\n",
    "print(X_zeroed)\n",
    "s"
   ]
  },
  {
   "cell_type": "code",
   "execution_count": 10,
   "metadata": {},
   "outputs": [
    {
     "name": "stdout",
     "output_type": "stream",
     "text": [
      "[[-20.   0.]\n",
      " [  6.   4.]]\n"
     ]
    },
    {
     "name": "stderr",
     "output_type": "stream",
     "text": [
      "/var/folders/b9/d85h3q6n6x7_fg4hvy45z3v80000gn/T/ipykernel_25950/2709297497.py:8: DeprecationWarning: `np.float` is a deprecated alias for the builtin `float`. To silence this warning, use `float` by itself. Doing this will not modify any behavior and is safe. If you specifically wanted the numpy scalar type, use `np.float64` here.\n",
      "Deprecated in NumPy 1.20; for more details and guidance: https://numpy.org/devdocs/release/1.20.0-notes.html#deprecations\n",
      "  J_0 = np.array(J.subs({x: x0[0], y: x0[1]})).astype(np.float)\n",
      "/var/folders/b9/d85h3q6n6x7_fg4hvy45z3v80000gn/T/ipykernel_25950/2709297497.py:10: DeprecationWarning: `np.float` is a deprecated alias for the builtin `float`. To silence this warning, use `float` by itself. Doing this will not modify any behavior and is safe. If you specifically wanted the numpy scalar type, use `np.float64` here.\n",
      "Deprecated in NumPy 1.20; for more details and guidance: https://numpy.org/devdocs/release/1.20.0-notes.html#deprecations\n",
      "  x1 = x0 - la.inv(J_0) @ np.array(X.subs({x: x0[0], y: x0[1]})).astype(np.float).flatten()\n"
     ]
    },
    {
     "data": {
      "text/plain": [
       "array([-1.05 ,  1.825])"
      ]
     },
     "execution_count": 10,
     "metadata": {},
     "output_type": "execute_result"
    }
   ],
   "source": [
    "# NewtonSolve\n",
    "from sympy import *\n",
    "x, y = symbols('x y')\n",
    "X = Matrix([5*x**4 + 6*y**2 - 6, 2*x**3 + 4*y - 5])\n",
    "x0 = np.array([-1, 0])\n",
    "Y = Matrix([x, y])\n",
    "J = X.jacobian(Y)\n",
    "J_0 = np.array(J.subs({x: x0[0], y: x0[1]})).astype(np.float)\n",
    "print(J_0)\n",
    "x1 = x0 - la.inv(J_0) @ np.array(X.subs({x: x0[0], y: x0[1]})).astype(np.float).flatten()\n",
    "x1"
   ]
  },
  {
   "cell_type": "code",
   "execution_count": 30,
   "metadata": {},
   "outputs": [
    {
     "name": "stdout",
     "output_type": "stream",
     "text": [
      "[[12. -4.]\n",
      " [12.  5.]]\n"
     ]
    },
    {
     "data": {
      "text/plain": [
       "array([ 1.25925926, -0.22222222])"
      ]
     },
     "execution_count": 30,
     "metadata": {},
     "output_type": "execute_result"
    }
   ],
   "source": [
    "x, y = symbols('x y')\n",
    "X = Matrix([4*x**3 + 2*y**2 - 6, 3*x**4 + 5*y - 5])\n",
    "x0 = np.array([1, -1])\n",
    "Y = Matrix([x, y])\n",
    "J = X.jacobian(Y)\n",
    "J_0 = np.array(J.subs({x: x0[0], y: x0[1]})).astype(np.float)\n",
    "print(J_0)\n",
    "x1 = x0 - la.inv(J_0) @ np.array(X.subs({x: x0[0], y: x0[1]})).astype(np.float).flatten()\n",
    "x1"
   ]
  },
  {
   "cell_type": "code",
   "execution_count": 17,
   "metadata": {},
   "outputs": [
    {
     "name": "stdout",
     "output_type": "stream",
     "text": [
      "[[ 1.  0.]\n",
      " [18.  1.]]\n"
     ]
    },
    {
     "name": "stderr",
     "output_type": "stream",
     "text": [
      "/var/folders/b9/d85h3q6n6x7_fg4hvy45z3v80000gn/T/ipykernel_17460/3007469064.py:7: DeprecationWarning: `np.float` is a deprecated alias for the builtin `float`. To silence this warning, use `float` by itself. Doing this will not modify any behavior and is safe. If you specifically wanted the numpy scalar type, use `np.float64` here.\n",
      "Deprecated in NumPy 1.20; for more details and guidance: https://numpy.org/devdocs/release/1.20.0-notes.html#deprecations\n",
      "  J_0 = np.array(J.subs({x: x0[0], y: x0[1]})).astype(np.float)\n",
      "/var/folders/b9/d85h3q6n6x7_fg4hvy45z3v80000gn/T/ipykernel_17460/3007469064.py:9: DeprecationWarning: `np.float` is a deprecated alias for the builtin `float`. To silence this warning, use `float` by itself. Doing this will not modify any behavior and is safe. If you specifically wanted the numpy scalar type, use `np.float64` here.\n",
      "Deprecated in NumPy 1.20; for more details and guidance: https://numpy.org/devdocs/release/1.20.0-notes.html#deprecations\n",
      "  x1 = x0 - la.inv(J_0) @ np.array(X.subs({x: x0[0], y: x0[1]})).astype(np.float).flatten()\n"
     ]
    },
    {
     "data": {
      "text/plain": [
       "array([-4., 89.])"
      ]
     },
     "execution_count": 17,
     "metadata": {},
     "output_type": "execute_result"
    }
   ],
   "source": [
    "# NewtonND-triangular\n",
    "x, y = symbols('x y')\n",
    "X = Matrix([x + 4, 6*x**3 + 1*y - 5])\n",
    "x0 = np.array([1, -1])\n",
    "Y = Matrix([x, y])\n",
    "J = X.jacobian(Y)\n",
    "J_0 = np.array(J.subs({x: x0[0], y: x0[1]})).astype(np.float)\n",
    "print(J_0)\n",
    "x1 = x0 - la.inv(J_0) @ np.array(X.subs({x: x0[0], y: x0[1]})).astype(np.float).flatten()\n",
    "x1"
   ]
  },
  {
   "cell_type": "code",
   "execution_count": null,
   "metadata": {},
   "outputs": [
    {
     "data": {
      "text/plain": [
       "15"
      ]
     },
     "execution_count": 26,
     "metadata": {},
     "output_type": "execute_result"
    }
   ],
   "source": [
    "# Low-rank Approximation\n",
    "s = np.array([32, 27, 15, 3, 2])\n",
    "r = 2\n",
    "\n",
    "d = s[r]\n",
    "d"
   ]
  },
  {
   "cell_type": "code",
   "execution_count": null,
   "metadata": {},
   "outputs": [
    {
     "name": "stdout",
     "output_type": "stream",
     "text": [
      "1100 3\n"
     ]
    },
    {
     "data": {
      "text/plain": [
       "0.125"
      ]
     },
     "execution_count": 40,
     "metadata": {},
     "output_type": "execute_result"
    }
   ],
   "source": [
    "# Rounding Error - Decimal to Binary Floating Point\n",
    "y = 14.375\n",
    "n = 4\n",
    "f, m = decimal_to_floating_point(y, n, 100)\n",
    "print(f, m)\n",
    "(1 + bin2dec(0.1101)) * 2 **m\n",
    "abs((1 + bin2dec(0.1101)) * 2 **m - y)"
   ]
  },
  {
   "cell_type": "code",
   "execution_count": 24,
   "metadata": {},
   "outputs": [
    {
     "name": "stdout",
     "output_type": "stream",
     "text": [
      "0110 2\n"
     ]
    },
    {
     "data": {
      "text/plain": [
       "5.75"
      ]
     },
     "execution_count": 24,
     "metadata": {},
     "output_type": "execute_result"
    }
   ],
   "source": [
    "y = 5.6875\n",
    "n = 4\n",
    "f, m = decimal_to_floating_point(y, n, 100)\n",
    "print(f, m)\n",
    "(1 + bin2dec(0.0111)) * 2 **m"
   ]
  },
  {
   "cell_type": "code",
   "execution_count": 17,
   "metadata": {},
   "outputs": [
    {
     "data": {
      "text/plain": [
       "16"
      ]
     },
     "execution_count": 17,
     "metadata": {},
     "output_type": "execute_result"
    }
   ],
   "source": [
    "# Floating point: exact representation\n",
    "n = 3\n",
    "k = 2 ** (n + 1)\n",
    "k"
   ]
  },
  {
   "cell_type": "code",
   "execution_count": null,
   "metadata": {},
   "outputs": [
    {
     "data": {
      "text/plain": [
       "5.385164807134504"
      ]
     },
     "execution_count": 42,
     "metadata": {},
     "output_type": "execute_result"
    }
   ],
   "source": [
    "# Find the Residual\n",
    "u3 = np.array([0, 0, 0, 1])\n",
    "u4 = np.array([0, 0, 1, 0])\n",
    "b = np.array([9, 12, 5, 2])\n",
    "np.sqrt((u3 @ b)**2 + (u4 @ b)**2)"
   ]
  },
  {
   "cell_type": "code",
   "execution_count": 8,
   "metadata": {},
   "outputs": [
    {
     "data": {
      "text/plain": [
       "6.708203932499369"
      ]
     },
     "execution_count": 8,
     "metadata": {},
     "output_type": "execute_result"
    }
   ],
   "source": [
    "u3 = np.array([0, 0, 0, 1])\n",
    "u4 = np.array([0, 0, 1, 0])\n",
    "b = np.array([5, 12, 6, 3])\n",
    "np.sqrt((u3 @ b)**2 + (u4 @ b)**2)"
   ]
  },
  {
   "cell_type": "code",
   "execution_count": null,
   "metadata": {},
   "outputs": [
    {
     "data": {
      "text/plain": [
       "array([0.1, 0.5])"
      ]
     },
     "execution_count": 43,
     "metadata": {},
     "output_type": "execute_result"
    }
   ],
   "source": [
    "# Finding the Eigenvalues of a Matrix\n",
    "A = np.array([[7, 0],\n",
    "              [-5, 3]])\n",
    "lam = np.array([A[0, 0], A[1, 1]])\n",
    "lamb = 1/(2*lam - 4)\n",
    "lamb"
   ]
  },
  {
   "cell_type": "code",
   "execution_count": 12,
   "metadata": {},
   "outputs": [
    {
     "data": {
      "text/plain": [
       "array([0.04166667, 0.05      ])"
      ]
     },
     "execution_count": 12,
     "metadata": {},
     "output_type": "execute_result"
    }
   ],
   "source": [
    "A = np.array([[7, 0],\n",
    "              [7, 6]])\n",
    "lam = np.array([A[0, 0], A[1, 1]])\n",
    "lamb = 1/(4*lam - 4)\n",
    "lamb"
   ]
  },
  {
   "cell_type": "code",
   "execution_count": 32,
   "metadata": {},
   "outputs": [
    {
     "data": {
      "text/plain": [
       "3.65933247287981e-05"
      ]
     },
     "execution_count": 32,
     "metadata": {},
     "output_type": "execute_result"
    }
   ],
   "source": [
    "# Estimating Errors of Iterative Methods\n",
    "# Secant method\n",
    "ek = 0.004898\n",
    "C = 0.2\n",
    "\n",
    "r = (1 + 5**0.5)/2\n",
    "ek1 = ek ** r * C\n",
    "ek1"
   ]
  },
  {
   "cell_type": "code",
   "execution_count": 33,
   "metadata": {},
   "outputs": [
    {
     "data": {
      "text/plain": [
       "0.00242597383"
      ]
     },
     "execution_count": 33,
     "metadata": {},
     "output_type": "execute_result"
    }
   ],
   "source": [
    "# Newton's method\n",
    "ek = 0.05887\n",
    "C = 0.7\n",
    "\n",
    "r = 2\n",
    "ek1 = ek ** r * C\n",
    "ek1"
   ]
  },
  {
   "cell_type": "code",
   "execution_count": 27,
   "metadata": {},
   "outputs": [
    {
     "data": {
      "text/plain": [
       "0.0003110680137919997"
      ]
     },
     "execution_count": 27,
     "metadata": {},
     "output_type": "execute_result"
    }
   ],
   "source": [
    "# Estimating Errors of Iterative Methods\n",
    "# Bisection's method\n",
    "ek = 0.0375\n",
    "ek_1 = 0.157\n",
    "C = ek/ek_1**2\n",
    "\n",
    "r = 2\n",
    "ek1 = ek ** r * C\n",
    "ek1\n"
   ]
  },
  {
   "cell_type": "code",
   "execution_count": null,
   "metadata": {},
   "outputs": [
    {
     "data": {
      "text/plain": [
       "array([20,  1,  7, 29, 14])"
      ]
     },
     "execution_count": 45,
     "metadata": {},
     "output_type": "execute_result"
    }
   ],
   "source": [
    "# Shifted Inverse Iteration\n",
    "lamA = np.array([8, -11, -5, 17, 2])\n",
    "lamB = lamA + 12\n",
    "lamB"
   ]
  },
  {
   "cell_type": "code",
   "execution_count": 8,
   "metadata": {},
   "outputs": [
    {
     "data": {
      "text/plain": [
       "array([-12,   1, -21, -24, -18])"
      ]
     },
     "execution_count": 8,
     "metadata": {},
     "output_type": "execute_result"
    }
   ],
   "source": [
    "lamA = np.array([-5, 8, -14, -17, -11])\n",
    "lamB = lamA - 7\n",
    "lamB"
   ]
  },
  {
   "cell_type": "code",
   "execution_count": 27,
   "metadata": {},
   "outputs": [
    {
     "data": {
      "text/plain": [
       "0.6666666666666666"
      ]
     },
     "execution_count": 27,
     "metadata": {},
     "output_type": "execute_result"
    }
   ],
   "source": [
    "# Taylor Series Approximation\n",
    "n = 3\n",
    "x0 = 0\n",
    "x1 = 2\n",
    "n_degree_taylor(sin(x), x1, x0, n)"
   ]
  },
  {
   "cell_type": "code",
   "execution_count": 21,
   "metadata": {},
   "outputs": [
    {
     "data": {
      "text/plain": [
       "950.0"
      ]
     },
     "execution_count": 21,
     "metadata": {},
     "output_type": "execute_result"
    }
   ],
   "source": [
    "n = 3\n",
    "x0 = 0\n",
    "x1 = 5\n",
    "n_degree_taylor(6*x**3+7*x**2+4*x+5, x1, x0, n)"
   ]
  },
  {
   "cell_type": "code",
   "execution_count": null,
   "metadata": {},
   "outputs": [
    {
     "name": "stdout",
     "output_type": "stream",
     "text": [
      "[[ 37.90179174]\n",
      " [-72.86249328]]\n"
     ]
    },
    {
     "data": {
      "text/plain": [
       "array([[  4.58035835],\n",
       "       [-10.57249866]])"
      ]
     },
     "execution_count": 52,
     "metadata": {},
     "output_type": "execute_result"
    }
   ],
   "source": [
    "# N-Dimension Optimization using Steepest Descent\n",
    "x, y = symbols('x y')\n",
    "f = 13*x**2 + 7*x*y + 13*y**2 + 13*sin(y)**2 + 7*cos(x*y)\n",
    "X0 = np.array([[-3], [3]])\n",
    "alpha = 0.05\n",
    "s0 = -gradient(f, X0)\n",
    "print(s0)\n",
    "X1 = X0 + alpha*s0\n",
    "X1"
   ]
  },
  {
   "cell_type": "code",
   "execution_count": 18,
   "metadata": {},
   "outputs": [
    {
     "name": "stdout",
     "output_type": "stream",
     "text": [
      "[[40.15327995]\n",
      " [ 5.72156529]]\n"
     ]
    },
    {
     "data": {
      "text/plain": [
       "array([[5.03065599],\n",
       "       [2.14431306]])"
      ]
     },
     "execution_count": 18,
     "metadata": {},
     "output_type": "execute_result"
    }
   ],
   "source": [
    "x, y = symbols('x y')\n",
    "f = 8*x**2 + 7*x*y + 8*y**2 + 2*sin(y)**2 + 6*cos(x*y)\n",
    "X0 = np.array([[-3], [1]])\n",
    "alpha = 0.2\n",
    "s0 = -gradient(f, X0)\n",
    "print(s0)\n",
    "X1 = X0 + alpha*s0\n",
    "X1"
   ]
  },
  {
   "cell_type": "code",
   "execution_count": null,
   "metadata": {},
   "outputs": [
    {
     "data": {
      "text/latex": [
       "$\\displaystyle \\left[\\begin{matrix}64 x^{3} & 64 y^{3} & 4 z^{3}\\\\2 x & 2 y & 2 z\\\\3 x^{2} & -1 & 0\\end{matrix}\\right]$"
      ],
      "text/plain": [
       "Matrix([\n",
       "[64*x**3, 64*y**3, 4*z**3],\n",
       "[    2*x,     2*y,    2*z],\n",
       "[ 3*x**2,      -1,      0]])"
      ]
     },
     "execution_count": 53,
     "metadata": {},
     "output_type": "execute_result"
    }
   ],
   "source": [
    "x, y, z = symbols('x y z')\n",
    "X = Matrix([16*x**4 + 16*y**4 + z**4 - 16,\n",
    "            x**2    + y**2    + z**2 - 3,\n",
    "            x**3    - y])\n",
    "Y = Matrix([x, y, z])\n",
    "X.jacobian(Y)"
   ]
  },
  {
   "cell_type": "code",
   "execution_count": null,
   "metadata": {},
   "outputs": [],
   "source": [
    "# Newton's Method\n",
    "import numpy as np\n",
    "import numpy.linalg as la\n",
    "\n",
    "def f(w):\n",
    "    x, y, z = w\n",
    "    return np.array([\n",
    "        16*x**4 + 16*y**4 + z**4 - 16,\n",
    "        x**2    + y**2    + z**2 - 3,\n",
    "        x**3    - y])\n",
    "\n",
    "def J(w):\n",
    "    x, y, z = w\n",
    "    return np.array([[64*x**3, 64*y**3, 4*z**3],\n",
    "                     [2*x, 2*y, 2*z],\n",
    "                     [3*x**2, -1, 0]])\n",
    "\n",
    "guesses = np.zeros((5,3))\n",
    "\n",
    "# Initial guess, don't save this in output\n",
    "w = np.array([1.,1.,1.])\n",
    "x = w\n",
    "for i in range(5):\n",
    "    x = x - la.inv(J(x)) @ f(x)\n",
    "    guesses[i] = x"
   ]
  },
  {
   "cell_type": "code",
   "execution_count": null,
   "metadata": {},
   "outputs": [],
   "source": [
    "# Instagram Infinity Loop\n",
    "import numpy as np\n",
    "import numpy.linalg as la\n",
    "\n",
    "\n",
    "M = (A.T / A.sum(axis=1))\n",
    "x = np.ones(A.shape[0])/A.shape[0]\n",
    "while not np.array_equal(M @ x, x):\n",
    "    x = M @ x\n",
    "\n",
    "prob = x[names.index('Nancy')]"
   ]
  },
  {
   "cell_type": "code",
   "execution_count": null,
   "metadata": {},
   "outputs": [],
   "source": [
    "# Floating Point Summation\n",
    "sum_p = 0.0\n",
    "sum_n = 0.0\n",
    "data = sorted(data,key = abs)\n",
    "for i in range(len(data)):\n",
    "    if data[i] > 0:\n",
    "        sum_p += data[i]\n",
    "    elif data[i] <= 0:\n",
    "        sum_n += data[i]\n",
    "data_sum = sum_p + sum_n"
   ]
  },
  {
   "cell_type": "code",
   "execution_count": null,
   "metadata": {},
   "outputs": [
    {
     "data": {
      "text/plain": [
       "array([8.114328  , 6.41123866, 5.17721514, 3.8976963 , 3.65027836,\n",
       "       2.94783879, 2.381553  ])"
      ]
     },
     "execution_count": 72,
     "metadata": {},
     "output_type": "execute_result"
    }
   ],
   "source": [
    "# Solve rank-deficient system with SVD\n",
    "import numpy as np\n",
    "\n",
    "s = S[S!=0]\n",
    "r = len(s)\n",
    "# print(U.shape, S.shape, Vh.shape, r, len(b))\n",
    "U_r = U[:, :r]\n",
    "Vh_r = Vh[:r, :]\n",
    "x = Vh_r.T @ (b @ U_r / s)"
   ]
  },
  {
   "cell_type": "code",
   "execution_count": null,
   "metadata": {},
   "outputs": [],
   "source": [
    "# Estimate the amount of clay\n",
    "import numpy as np\n",
    "\n",
    "n = 100000\n",
    "V = 10 * 10 * 2\n",
    "x = 10 * np.random.rand(n) - 5\n",
    "y = 10 * np.random.rand(n) - 5\n",
    "z = 2 * np.random.rand(n)\n",
    "\n",
    "def check_in(x, y, z):\n",
    "    if x**2 + y**2 < 25 and z > 0 and z < f(x,y):\n",
    "        return 1\n",
    "    return 0\n",
    "\n",
    "n_in = np.sum(np.array([check_in(x[i], y[i], z[i]) for i in range(n)]))\n",
    "volume = V * n_in/n"
   ]
  },
  {
   "cell_type": "code",
   "execution_count": null,
   "metadata": {},
   "outputs": [],
   "source": [
    "# Estimate the volume between surfaces\n",
    "import numpy as np\n",
    "\n",
    "n = 100000\n",
    "V = 6 * 6 * 2\n",
    "x = 6 * np.random.rand(n) - 3\n",
    "y = 6 * np.random.rand(n) - 3\n",
    "z = 2 * np.random.rand(n)\n",
    "\n",
    "def check_in(x, y, z):\n",
    "    if z > top(x,y) and z < bottom(x,y):\n",
    "        return 1\n",
    "    return 0\n",
    "\n",
    "n_in = np.sum(np.array([check_in(x[i], y[i], z[i]) for i in range(n)]))\n",
    "volume = V * n_in/n"
   ]
  },
  {
   "cell_type": "code",
   "execution_count": 30,
   "metadata": {},
   "outputs": [
    {
     "name": "stdout",
     "output_type": "stream",
     "text": [
      "[[ 16. -10.]\n",
      " [ 18.   3.]]\n"
     ]
    },
    {
     "data": {
      "text/plain": [
       "array([ 1.04824561, -0.62280702])"
      ]
     },
     "execution_count": 30,
     "metadata": {},
     "output_type": "execute_result"
    }
   ],
   "source": [
    "# Newton Solve 2\n",
    "x, y = symbols('x y')\n",
    "x0 = np.array([1,-1])\n",
    "f = Matrix([4*x**4+5*y**2-6, 6*x**3 + 3*y - 5])\n",
    "Y = Matrix([x, y])\n",
    "J = f.jacobian(Y)\n",
    "J_ = np.array(J.subs({x:x0[0], y:x0[1]})).astype(np.float64)\n",
    "print(J_)\n",
    "X_ = np.array(f.subs({x:x0[0], y:x0[1]})).astype(np.float64)\n",
    "S = la.solve(J_, -X_)\n",
    "S.flatten()+x0"
   ]
  },
  {
   "cell_type": "code",
   "execution_count": 11,
   "metadata": {},
   "outputs": [
    {
     "data": {
      "text/plain": [
       "10.0"
      ]
     },
     "execution_count": 11,
     "metadata": {},
     "output_type": "execute_result"
    }
   ],
   "source": [
    "# Inverse Shift iteration\n",
    "lamb = 0.25\n",
    "sigma = 6\n",
    "lama = 1/lamb + sigma\n",
    "lama"
   ]
  },
  {
   "cell_type": "code",
   "execution_count": 22,
   "metadata": {},
   "outputs": [
    {
     "data": {
      "text/plain": [
       "11.0"
      ]
     },
     "execution_count": 22,
     "metadata": {},
     "output_type": "execute_result"
    }
   ],
   "source": [
    "lamb = 0.2\n",
    "sigma = 6\n",
    "lama = 1/lamb + sigma\n",
    "lama"
   ]
  },
  {
   "cell_type": "code",
   "execution_count": 16,
   "metadata": {},
   "outputs": [
    {
     "name": "stdout",
     "output_type": "stream",
     "text": [
      "[-0.58823529  0.43478261  3.33333333]\n"
     ]
    },
    {
     "data": {
      "text/plain": [
       "array([0.13333333, 0.8       , 0.06666667])"
      ]
     },
     "execution_count": 16,
     "metadata": {},
     "output_type": "execute_result"
    }
   ],
   "source": [
    "# Result of Normalized Power, Inverse, and Shifted Inverse Iteration\n",
    "lam = np.array([1, 5, 3])\n",
    "sigma = 2.7\n",
    "print(1/(lam-sigma))\n",
    "v = np.array([2, 12, 1]) # according to the result of 1/(lam-sigma)\n",
    "v/la.norm(v, 1)"
   ]
  },
  {
   "cell_type": "code",
   "execution_count": 12,
   "metadata": {},
   "outputs": [
    {
     "name": "stdout",
     "output_type": "stream",
     "text": [
      "[10.          0.90909091 -0.52631579]\n"
     ]
    },
    {
     "data": {
      "text/plain": [
       "array([0.19047619, 0.28571429, 0.52380952])"
      ]
     },
     "execution_count": 12,
     "metadata": {},
     "output_type": "execute_result"
    }
   ],
   "source": [
    "lam = np.array([4, 5, 2])\n",
    "sigma = 3.9\n",
    "print(1/(lam-sigma))\n",
    "v = np.array([4, 6, 11]) # according to the result of 1/(lam-sigma), max abs value index\n",
    "v/la.norm(v, 1)"
   ]
  },
  {
   "cell_type": "code",
   "execution_count": 31,
   "metadata": {},
   "outputs": [
    {
     "data": {
      "text/plain": [
       "6"
      ]
     },
     "execution_count": 31,
     "metadata": {},
     "output_type": "execute_result"
    }
   ],
   "source": [
    "# Estimating Errors of Iterative Methods\n",
    "# Bisection\n",
    "ek = 0.0375\n",
    "tol = 1e-3\n",
    "e = ek\n",
    "cnt = 0\n",
    "while e > tol:\n",
    "    e *= 0.5\n",
    "    cnt += 1\n",
    "cnt"
   ]
  },
  {
   "cell_type": "code",
   "execution_count": 6,
   "metadata": {},
   "outputs": [
    {
     "data": {
      "text/plain": [
       "6"
      ]
     },
     "execution_count": 6,
     "metadata": {},
     "output_type": "execute_result"
    }
   ],
   "source": [
    "ek = 0.042\n",
    "tol = 1e-3\n",
    "e = ek\n",
    "cnt = 0\n",
    "while e > tol:\n",
    "    e *= 0.5\n",
    "    cnt += 1\n",
    "cnt"
   ]
  },
  {
   "cell_type": "code",
   "execution_count": 10,
   "metadata": {},
   "outputs": [
    {
     "data": {
      "text/plain": [
       "4"
      ]
     },
     "execution_count": 10,
     "metadata": {},
     "output_type": "execute_result"
    }
   ],
   "source": [
    "# PCA Number of Components\n",
    "import numpy as np\n",
    "\n",
    "U = np.array([[-0.1, 0.0, -0.2, -0.3, 0.1, 0.1, 0.0, 0.2, 0.3], [0.4, -0.2, -0.1, 0.1, 0.0, 0.4, 0.3, 0.3, -0.1], [-0.2, -0.2, -0.5, -0.2, 0.0, -0.2, 0.4, -0.2, -0.2], [0.2, 0.3, 0.3, 0.1, 0.2, 0.0, -0.2, 0.0, 0.4], [-0.4, -0.1, 0.3, -0.2, 0.0, 0.1, -0.4, -0.2, -0.4], [0.1, 0.4, -0.1, 0.2, 0.3, -0.3, -0.1, 0.1, -0.4], [0.2, -0.5, 0.0, -0.3, 0.1, -0.1, -0.4, 0.3, 0.1], [0.1, -0.2, 0.5, 0.2, 0.0, -0.4, 0.4, -0.1, -0.1], [0.0, 0.3, 0.2, -0.7, -0.4, 0.0, 0.3, -0.1, -0.1], [-0.5, -0.2, 0.1, 0.1, 0.1, 0.0, 0.2, 0.0, 0.5], [0.1, -0.2, 0.2, 0.2, -0.6, 0.1, 0.0, -0.1, 0.0], [0.0, 0.3, -0.2, 0.2, -0.4, 0.1, -0.2, -0.3, 0.1], [0.0, 0.0, 0.2, -0.1, 0.4, 0.6, 0.2, -0.3, -0.1], [0.4, 0.0, 0.0, -0.3, 0.1, -0.3, 0.0, -0.3, 0.3], [-0.2, 0.3, 0.2, -0.1, -0.2, 0.0, 0.2, 0.6, 0.0]])\n",
    "S = np.array([[38,  0,  0,  0,  0,  0,  0,  0,  0], [ 0, 29,  0,  0,  0,  0,  0,  0,  0], [ 0,  0, 23,  0,  0,  0,  0,  0,  0], [ 0,  0,  0, 21,  0,  0,  0,  0,  0], [ 0,  0,  0,  0, 17,  0,  0,  0,  0], [ 0,  0,  0,  0,  0, 10,  0,  0,  0], [ 0,  0,  0,  0,  0,  0,  6,  0,  0], [ 0,  0,  0,  0,  0,  0,  0,  4,  0], [ 0,  0,  0,  0,  0,  0,  0,  0,  3]])\n",
    "V = np.array([[-0.1, 0.8, -0.1, 0.0, 0.4, -0.2, -0.2, 0.4, 0.0], [0.1, -0.2, 0.7, 0.2, 0.3, 0.3, -0.5, 0.2, 0.1], [-0.3, 0.0, 0.0, -0.4, 0.4, 0.0, -0.2, -0.6, -0.4], [-0.1, 0.3, 0.4, -0.3, -0.1, 0.0, 0.2, -0.4, 0.7], [-0.7, -0.1, 0.1, -0.4, -0.4, -0.2, -0.1, 0.4, -0.1], [-0.4, -0.4, -0.4, 0.0, 0.5, 0.1, 0.1, 0.1, 0.5], [0.4, -0.3, 0.1, -0.4, 0.1, -0.7, -0.1, 0.1, 0.1], [-0.3, 0.0, 0.0, 0.6, -0.2, -0.5, -0.4, -0.4, 0.1], [0.2, 0.0, -0.4, -0.3, -0.3, 0.3, -0.7, -0.1, 0.2]])\n",
    "\n",
    "minvalue = 0.78\n",
    "\n",
    "A_new = U @ S\n",
    "s = np.diagonal(S)\n",
    "v = s / np.sum(s)\n",
    "var = np.array([np.sum(v[:i + 1]) for i in range(len(s))])\n",
    "(np.argwhere(var > minvalue).reshape(-1))[0]"
   ]
  },
  {
   "cell_type": "code",
   "execution_count": 11,
   "metadata": {},
   "outputs": [
    {
     "data": {
      "text/plain": [
       "4"
      ]
     },
     "execution_count": 11,
     "metadata": {},
     "output_type": "execute_result"
    }
   ],
   "source": [
    "U = np.array([[0.0, 0.1, -0.4, -0.5, 0.2, 0.4, 0.2, -0.1, 0.3, 0.0, 0.4, 0.0, 0.1, 0.3], [0.0, -0.2, 0.3, 0.2, 0.5, 0.2, 0.2, 0.1, -0.3, -0.2, 0.3, -0.5, 0.2,  -0.2], [-0.1, 0.3, -0.3, 0.4, 0.2, 0.4, -0.1, -0.3, -0.2, 0.3, -0.3, 0.1, 0.3,  -0.1], [-0.1, 0.1, 0.2, -0.2, 0.2, -0.2, 0.3, -0.4, -0.1, -0.2, -0.5, -0.2, 0.1,  0.5], [0.0, -0.2, -0.5, 0.1, -0.1, -0.4, 0.1, -0.4, 0.1, -0.2, 0.0, -0.3, -0.1,  -0.3], [-0.1, 0.5, 0.0, -0.3, -0.2, -0.2, 0.0, 0.1, -0.5, 0.4, 0.2, -0.4, -0.2,  -0.1], [0.3, 0.1, -0.1, -0.2, 0.3, -0.3, -0.3, 0.1, -0.2, -0.1, 0.2, 0.4, 0.4,  -0.1], [-0.2, 0.2, 0.3, -0.1, -0.1, 0.1, -0.3, -0.6, 0.0, -0.4, 0.3, 0.1, -0.1,  -0.1], [0.1, 0.1, -0.2, 0.4, -0.3, -0.2, 0.2, 0.1, -0.3, -0.3, 0.3, 0.0, 0.2,  0.4], [-0.5, 0.0, -0.3, 0.0, 0.3, 0.0, 0.1, 0.2, -0.3, -0.3, 0.0, 0.3, -0.5,  0.1], [0.1, 0.0, -0.1, 0.2, 0.3, -0.2, -0.6, 0.0, 0.2, 0.1, 0.1, -0.4, -0.2,  0.4], [0.1, 0.0, -0.3, -0.4, 0.0, 0.1, -0.3, 0.2, -0.2, -0.5, -0.4, -0.2, 0.1,  -0.3], [0.3, -0.6, 0.0, -0.1, -0.1, 0.1, -0.1, -0.4, -0.5, 0.2, 0.0, 0.1, -0.2,  0.1], [-0.5, -0.3, 0.0, -0.1, -0.4, 0.2, -0.3, 0.2, -0.1, 0.0, 0.1, -0.1, 0.3,  0.3], [0.5, 0.3, 0.0, 0.1, -0.1, 0.4, 0.0, 0.1, 0.0, -0.2, -0.1, -0.1, -0.3,  0.2]])\n",
    "S = np.array([[36,  0,  0,  0,  0,  0,  0,  0,  0,  0,  0,  0,  0,  0], [ 0, 31,  0,  0,  0,  0,  0,  0,  0,  0,  0,  0,  0,  0], [ 0,  0, 29,  0,  0,  0,  0,  0,  0,  0,  0,  0,  0,  0], [ 0,  0,  0, 24,  0,  0,  0,  0,  0,  0,  0,  0,  0,  0], [ 0,  0,  0,  0, 23,  0,  0,  0,  0,  0,  0,  0,  0,  0], [ 0,  0,  0,  0,  0, 22,  0,  0,  0,  0,  0,  0,  0,  0], [ 0,  0,  0,  0,  0,  0, 21,  0,  0,  0,  0,  0,  0,  0], [ 0,  0,  0,  0,  0,  0,  0, 17,  0,  0,  0,  0,  0,  0], [ 0,  0,  0,  0,  0,  0,  0,  0, 16,  0,  0,  0,  0,  0], [ 0,  0,  0,  0,  0,  0,  0,  0,  0, 11,  0,  0,  0,  0], [ 0,  0,  0,  0,  0,  0,  0,  0,  0,  0, 10,  0,  0,  0], [ 0,  0,  0,  0,  0,  0,  0,  0,  0,  0,  0,  4,  0,  0], [ 0,  0,  0,  0,  0,  0,  0,  0,  0,  0,  0,  0,  3,  0], [ 0,  0,  0,  0,  0,  0,  0,  0,  0,  0,  0,  0,  0,  2]])\n",
    "V = np.array([[-0.3, -0.3, 0.3, 0.1, -0.1, 0.3, -0.3, -0.3, -0.1, 0.0, -0.2, -0.4, 0.1,  -0.5], [0.4, -0.1, -0.2, -0.3, 0.3, 0.2, 0.0, -0.1, -0.4, 0.0, -0.1, -0.1, 0.6,  0.0], [0.1, -0.4, -0.4, 0.1, 0.1, 0.1, 0.1, 0.1, 0.2, -0.5, 0.0, -0.4, -0.2,  0.2], [-0.1, -0.3, 0.3, -0.1, 0.5, 0.1, 0.1, 0.1, -0.2, 0.4, 0.2, -0.1, -0.3,  0.3], [0.2, -0.1, 0.1, 0.0, -0.5, 0.0, 0.1, 0.0, -0.2, 0.1, 0.6, -0.4, 0.2,  0.1], [0.1, -0.7, 0.0, -0.3, -0.3, -0.3, 0.0, -0.1, 0.1, 0.0, -0.1, 0.5, 0.0,  0.1], [0.4, 0.0, 0.0, 0.2, -0.1, 0.5, -0.4, -0.3, -0.2, 0.0, 0.0, 0.3, -0.4,  0.2], [0.2, 0.2, 0.5, -0.3, 0.0, -0.1, 0.2, -0.5, 0.2, -0.2, -0.2, -0.2, 0.0,  0.3], [0.1, 0.1, 0.1, -0.6, -0.3, 0.1, -0.1, 0.5, -0.2, -0.2, -0.1, -0.1, -0.3,  -0.1], [0.2, -0.1, 0.5, 0.2, 0.2, 0.1, -0.2, 0.4, 0.2, -0.4, 0.2, 0.2, 0.4, 0.0], [0.4, -0.1, 0.2, 0.3, -0.2, 0.0, 0.4, 0.3, -0.1, 0.3, -0.5, -0.1, 0.0,  0.0], [0.2, 0.0, 0.1, 0.3, 0.2, -0.6, -0.3, -0.1, -0.4, -0.3, 0.1, -0.1, -0.3,  -0.2], [-0.4, 0.0, 0.1, 0.1, -0.1, 0.2, 0.5, 0.0, -0.5, -0.4, 0.0, 0.2, 0.0,  0.1], [-0.3, 0.0, -0.1, 0.1, -0.2, -0.2, -0.5, 0.1, -0.2, 0.0, -0.3, -0.2, 0.2,  0.6]])\n",
    "\n",
    "minvalue = 0.54\n",
    "\n",
    "A_new = U @ S\n",
    "s = np.diagonal(S)\n",
    "v = s / np.sum(s)\n",
    "var = np.array([np.sum(v[:i + 1]) for i in range(len(s))])\n",
    "(np.argwhere(var > minvalue).reshape(-1))[0]"
   ]
  },
  {
   "cell_type": "code",
   "execution_count": 29,
   "metadata": {},
   "outputs": [
    {
     "name": "stdout",
     "output_type": "stream",
     "text": [
      "Hessian: [[540.   0.]\n",
      " [  0.   8.]]\n",
      "Step: [[-1.]\n",
      " [-2.]]\n",
      "x1: [[2.]\n",
      " [0.]]\n"
     ]
    }
   ],
   "source": [
    "# Optimization ND NewtonMethod one step\n",
    "x, y = symbols('x y')\n",
    "x0 = np.array([[3], [2]])\n",
    "f = 5 * x**4 + 4 * y**2\n",
    "H = hessian(f, x0)\n",
    "s = -la.solve(H, gradient(f, x0))\n",
    "print('Hessian: %s' %H)\n",
    "print('Step: %s'%s)\n",
    "x1 = x0 + s\n",
    "print('x1: %s' %x1)"
   ]
  },
  {
   "cell_type": "code",
   "execution_count": 19,
   "metadata": {},
   "outputs": [
    {
     "name": "stdout",
     "output_type": "stream",
     "text": [
      "Hessian: [[24.  0.]\n",
      " [ 0. 36.]]\n",
      "Step: [[-1.        ]\n",
      " [-0.33333333]]\n",
      "x1: [[1.        ]\n",
      " [0.66666667]]\n"
     ]
    }
   ],
   "source": [
    "x, y = symbols('x y')\n",
    "x0 = np.array([[2], [1]])\n",
    "f = 2 * x**3 + 3 * y**4\n",
    "H = hessian(f, x0)\n",
    "s = -la.solve(H, gradient(f, x0))\n",
    "print('Hessian: %s' %H)\n",
    "print('Step: %s'%s)\n",
    "x1 = x0 + s\n",
    "print('x1: %s' %x1)"
   ]
  },
  {
   "cell_type": "code",
   "execution_count": 29,
   "metadata": {},
   "outputs": [
    {
     "data": {
      "text/latex": [
       "$\\displaystyle 1.31016416130992$"
      ],
      "text/plain": [
       "1.31016416130992"
      ]
     },
     "execution_count": 29,
     "metadata": {},
     "output_type": "execute_result"
    }
   ],
   "source": [
    "# Finite Difference: Calculation R -> R\n",
    "x = Symbol('x')\n",
    "y = -log(x)\n",
    "x0 = 0.1\n",
    "h = 0.01\n",
    "(y.subs(x, x0+h) - y.subs(x, x0-h))/2/h\n",
    "# 看情况\n",
    "x = Symbol('x')\n",
    "y = exp(x)\n",
    "x0 = 0.3\n",
    "h = 0.06\n",
    "y0 = 1.349859\n",
    "(y0 - y.subs(x, x0-h))/h"
   ]
  },
  {
   "cell_type": "code",
   "execution_count": 18,
   "metadata": {},
   "outputs": [
    {
     "data": {
      "text/latex": [
       "$\\displaystyle 2.01539767514694$"
      ],
      "text/plain": [
       "2.01539767514694"
      ]
     },
     "execution_count": 18,
     "metadata": {},
     "output_type": "execute_result"
    }
   ],
   "source": [
    "x = Symbol('x')\n",
    "y = exp(x)\n",
    "x0 = 0.7\n",
    "h = 0.07\n",
    "(y.subs(x, x0+h) - y.subs(x, x0-h))/2/h"
   ]
  },
  {
   "cell_type": "code",
   "execution_count": 46,
   "metadata": {},
   "outputs": [
    {
     "data": {
      "text/latex": [
       "$\\displaystyle -1.48215832184909$"
      ],
      "text/plain": [
       "-1.48215832184909"
      ]
     },
     "execution_count": 46,
     "metadata": {},
     "output_type": "execute_result"
    }
   ],
   "source": [
    "x = Symbol('x')\n",
    "y = -log(x)\n",
    "x0 = 0.1\n",
    "h = 0.01\n",
    "(y.subs(x, x0+h) - y.subs(x, x0-h))/2/h\n",
    "# 看情况\n",
    "x = Symbol('x')\n",
    "y = -log(x)\n",
    "x0 = 0.7\n",
    "h = 0.05\n",
    "y0 = 0.356675\n",
    "(y0 - y.subs(x, x0-h))/h"
   ]
  },
  {
   "cell_type": "code",
   "execution_count": 7,
   "metadata": {},
   "outputs": [
    {
     "name": "stdout",
     "output_type": "stream",
     "text": [
      "-3\n",
      "0.8125 -1\n"
     ]
    },
    {
     "data": {
      "text/plain": [
       "-0.2265625"
      ]
     },
     "execution_count": 7,
     "metadata": {},
     "output_type": "execute_result"
    }
   ],
   "source": [
    "# Summing Two Floating-Point Numbers\n",
    "def sum_minifloats(x,y):\n",
    "    # compute sum z = x + y\n",
    "    # return z as a float\n",
    "    z = decoding(x) + decoding(y)\n",
    "    return z\n",
    "\n",
    "def decoding(x):\n",
    "    a = (-1)**x[0]\n",
    "    E = np.array([x[i]*2**(5-i) for i in range(1,6)]).sum().astype(np.int) - 16\n",
    "    print(E)\n",
    "    M = np.array([x[i]*2**(5-i) for i in range(6,10)]).sum()\n",
    "    print(M, a)\n",
    "    return a*(1+M)*2.**E\n",
    "decoding(x)"
   ]
  },
  {
   "cell_type": "code",
   "execution_count": 27,
   "metadata": {},
   "outputs": [
    {
     "data": {
      "text/plain": [
       "0.00390625"
      ]
     },
     "execution_count": 27,
     "metadata": {},
     "output_type": "execute_result"
    }
   ],
   "source": [
    "# Properties of a Floating Point System\n",
    "n = 6\n",
    "m = (-8, 9)\n",
    "# smallest positive normalized number\n",
    "2**m[0]"
   ]
  },
  {
   "cell_type": "code",
   "execution_count": 10,
   "metadata": {},
   "outputs": [
    {
     "data": {
      "text/plain": [
       "128"
      ]
     },
     "execution_count": 10,
     "metadata": {},
     "output_type": "execute_result"
    }
   ],
   "source": [
    "n = 6\n",
    "m = (-7, 8)\n",
    "# largest value of K that [-k, k] are exactly represenable\n",
    "2**(n+1)"
   ]
  },
  {
   "cell_type": "code",
   "execution_count": 26,
   "metadata": {},
   "outputs": [
    {
     "data": {
      "text/plain": [
       "504.0"
      ]
     },
     "execution_count": 26,
     "metadata": {},
     "output_type": "execute_result"
    }
   ],
   "source": [
    "n = 5\n",
    "m = (-7, 8)\n",
    "# Largest normalized number\n",
    "(1+bin2dec('0.' + n*'1'))*2**m[1]"
   ]
  },
  {
   "cell_type": "code",
   "execution_count": 7,
   "metadata": {},
   "outputs": [
    {
     "data": {
      "text/plain": [
       "0.000244140625"
      ]
     },
     "execution_count": 7,
     "metadata": {},
     "output_type": "execute_result"
    }
   ],
   "source": [
    "n = 4\n",
    "m = (-8, 9)\n",
    "# smallest positive subnormal number\n",
    "(bin2dec('0.' + (n-1)*'0'+ '1'))*2**m[0]"
   ]
  },
  {
   "cell_type": "code",
   "execution_count": 15,
   "metadata": {},
   "outputs": [
    {
     "data": {
      "text/plain": [
       "0.0078125"
      ]
     },
     "execution_count": 15,
     "metadata": {},
     "output_type": "execute_result"
    }
   ],
   "source": [
    "n = 7\n",
    "m = (-126, 127)\n",
    "# Machine epsilon\n",
    "2 ** -n"
   ]
  },
  {
   "cell_type": "code",
   "execution_count": 16,
   "metadata": {},
   "outputs": [
    {
     "name": "stdout",
     "output_type": "stream",
     "text": [
      "-3\n",
      "1\n"
     ]
    }
   ],
   "source": [
    "# Taylor: Shifting the Expansion Point\n",
    "x = Symbol('x')\n",
    "f = 2 - 9*x + x**2\n",
    "x0 = 3\n",
    "order = 2\n",
    "for i in range(order):\n",
    "    print(diff(f, x, i+1).subs(x, x0)/factorial(i+1))"
   ]
  },
  {
   "cell_type": "code",
   "execution_count": 8,
   "metadata": {},
   "outputs": [
    {
     "name": "stdout",
     "output_type": "stream",
     "text": [
      "24\n",
      "5\n"
     ]
    }
   ],
   "source": [
    "x = Symbol('x')\n",
    "f = 6 - 6*x + 5*x**2\n",
    "x0 = 3\n",
    "order = 2\n",
    "for i in range(order):\n",
    "    print(diff(f, x, i+1).subs(x, x0)/factorial(i+1))"
   ]
  },
  {
   "cell_type": "code",
   "execution_count": null,
   "metadata": {},
   "outputs": [],
   "source": [
    "# Finite Difference\n",
    "import numpy as np\n",
    "\n",
    "def f(x):\n",
    "    return x[0]**4 + x[1]*x[6] + x[2]**2 + x[3]**3 + x[4]*x[5] + x[5]**3 + x[6]**3\n",
    "\n",
    "n = len(xvec)\n",
    "approx_gradient = np.zeros(n)\n",
    "h = 0.9\n",
    "for i in range(n):\n",
    "    pert = np.zeros(n)\n",
    "    pert[i] = h\n",
    "    approx_gradient[i] = (f(xvec) - f(xvec-pert))/h"
   ]
  },
  {
   "cell_type": "code",
   "execution_count": null,
   "metadata": {},
   "outputs": [],
   "source": [
    "# Grubhub Coupon\n",
    "import numpy as np\n",
    "import numpy.linalg as la\n",
    "\n",
    "A = np.array([[0, 0, 1, 0, 0],\n",
    "              [1, 0, 0, 0, 0],\n",
    "              [1, 1, 0, 1, 1],\n",
    "              [0, 0, 1, 0, 0],\n",
    "              [1, 1, 1, 0, 0]])\n",
    "C = (A / A.sum(axis=0))\n",
    "x = np.ones(A.shape[0])/A.shape[0]\n",
    "\n",
    "for i in range(10000):\n",
    "    x = C @ x\n",
    "\n",
    "p = x[restaurants.index('Mexican')]"
   ]
  },
  {
   "cell_type": "code",
   "execution_count": null,
   "metadata": {},
   "outputs": [],
   "source": [
    "# SVD Compression V2\n",
    "import numpy as np\n",
    "import matplotlib.pyplot as plt\n",
    "import numpy.linalg as la\n",
    "\n",
    "u, s, vt = la.svd(image, full_matrices = False)\n",
    "print(u.shape, s.shape, vt.shape)\n",
    "k = 0\n",
    "image_compressed = 0\n",
    "for i in range(len(s)):\n",
    "    image_compressed += s[i] * np.outer(u[:,i], vt[i])\n",
    "    k+=1\n",
    "    if la.norm(image_compressed - image, 2) <= eps:\n",
    "        break\n",
    "plt.figure()\n",
    "plt.imshow(image, cmap=\"gray\")\n",
    "plt.title(\"Original Image\")\n",
    "\n",
    "plt.figure()\n",
    "plt.imshow(image_compressed, cmap=\"gray\")\n",
    "plt.title(\"Compressed: $eps$ = {}\".format(eps) + \",  $k$ = {}\".format(k))"
   ]
  },
  {
   "cell_type": "markdown",
   "metadata": {},
   "source": [
    "Newton Concept\n",
    "<img src = '../Quiz/Quiz5/15.jpg'>"
   ]
  },
  {
   "cell_type": "code",
   "execution_count": 30,
   "metadata": {},
   "outputs": [
    {
     "name": "stdout",
     "output_type": "stream",
     "text": [
      "[[ -8.  18.]\n",
      " [-12.   5.]]\n"
     ]
    },
    {
     "data": {
      "text/plain": [
       "array([-0.80681818,  0.86363636])"
      ]
     },
     "execution_count": 30,
     "metadata": {},
     "output_type": "execute_result"
    }
   ],
   "source": [
    "# NewtonSolve\n",
    "x, y = symbols('x y')\n",
    "f = Matrix([4*x**2 + 6*y**3 - 6, 3*x**4 + 5*y -5])\n",
    "X0 = np.array([-1, 1])\n",
    "\n",
    "Y = Matrix([x, y])\n",
    "J = (f.jacobian(Y))\n",
    "\n",
    "J_ = np.array(J.subs({x:X0[0], y:X0[1]})).astype(np.float64)\n",
    "print(J_)\n",
    "f_ = np.array(f.subs({x:X0[0], y:X0[1]})).astype(np.float64)\n",
    "\n",
    "S = la.solve(J_, -f_)\n",
    "S.flatten()+X0"
   ]
  },
  {
   "cell_type": "code",
   "execution_count": 38,
   "metadata": {},
   "outputs": [
    {
     "data": {
      "text/plain": [
       "109.66666666666667"
      ]
     },
     "execution_count": 38,
     "metadata": {},
     "output_type": "execute_result"
    }
   ],
   "source": [
    "# Taylor Series approximation\n",
    "x = Symbol('x')\n",
    "f_x0 = [3, -2, 9, -3, 7]\n",
    "x0 = 0\n",
    "xp = 4\n",
    "\n",
    "f = 0\n",
    "for i in range(len(f_x0)):\n",
    "    f += f_x0[i]/factorial(i)*(x - x0)**i\n",
    "float(f.subs(x,xp))"
   ]
  },
  {
   "cell_type": "code",
   "execution_count": 17,
   "metadata": {},
   "outputs": [
    {
     "data": {
      "text/plain": [
       "28.333333333333332"
      ]
     },
     "execution_count": 17,
     "metadata": {},
     "output_type": "execute_result"
    }
   ],
   "source": [
    "x = Symbol('x')\n",
    "f_x0 = [3, -5, 3, -2, 4]\n",
    "x0 = 0\n",
    "xp = 4\n",
    "\n",
    "f = 0\n",
    "for i in range(len(f_x0)):\n",
    "    f += f_x0[i]/factorial(i)*(x - x0)**i\n",
    "float(f.subs(x,xp))"
   ]
  },
  {
   "cell_type": "code",
   "execution_count": 40,
   "metadata": {},
   "outputs": [
    {
     "data": {
      "text/plain": [
       "8"
      ]
     },
     "execution_count": 40,
     "metadata": {},
     "output_type": "execute_result"
    }
   ],
   "source": [
    "# Eigenvalues of Matrix Polynomials\n",
    "lam = -2\n",
    "lamb = lam**3 - 3*lam**2 - 8*lam + 12\n",
    "lamb"
   ]
  },
  {
   "cell_type": "code",
   "execution_count": 20,
   "metadata": {},
   "outputs": [
    {
     "data": {
      "text/plain": [
       "-23"
      ]
     },
     "execution_count": 20,
     "metadata": {},
     "output_type": "execute_result"
    }
   ],
   "source": [
    "lam = 3\n",
    "lamb = lam**3 - 4*lam**2 -9*lam + 13\n",
    "lamb"
   ]
  },
  {
   "cell_type": "code",
   "execution_count": 43,
   "metadata": {},
   "outputs": [
    {
     "data": {
      "text/plain": [
       "0.25"
      ]
     },
     "execution_count": 43,
     "metadata": {},
     "output_type": "execute_result"
    }
   ],
   "source": [
    "# Floating point machine epsilon\n",
    "n = 2\n",
    "m = (-85, 84)\n",
    "2**(-n)"
   ]
  },
  {
   "cell_type": "code",
   "execution_count": 27,
   "metadata": {},
   "outputs": [
    {
     "data": {
      "text/plain": [
       "4.0"
      ]
     },
     "execution_count": 27,
     "metadata": {},
     "output_type": "execute_result"
    }
   ],
   "source": [
    "# Taylor Series Approximation Derivative\n",
    "x = symbols('x')\n",
    "n_degree_taylor_derivative(np.e**x,3,0,2,1)"
   ]
  },
  {
   "cell_type": "code",
   "execution_count": 34,
   "metadata": {},
   "outputs": [
    {
     "data": {
      "text/plain": [
       "-3.0"
      ]
     },
     "execution_count": 34,
     "metadata": {},
     "output_type": "execute_result"
    },
    {
     "ename": "",
     "evalue": "",
     "output_type": "error",
     "traceback": [
      "\u001b[1;31mThe Kernel crashed while executing code in the the current cell or a previous cell. Please review the code in the cell(s) to identify a possible cause of the failure. Click <a href='https://aka.ms/vscodeJupyterKernelCrash'>here</a> for more info. View Jupyter <a href='command:jupyter.viewOutput'>log</a> for further details."
     ]
    }
   ],
   "source": [
    "x = symbols('x')\n",
    "n_degree_taylor_derivative(cos(x),3,0,2,1)"
   ]
  },
  {
   "cell_type": "code",
   "execution_count": 28,
   "metadata": {},
   "outputs": [
    {
     "data": {
      "text/plain": [
       "3.0"
      ]
     },
     "execution_count": 28,
     "metadata": {},
     "output_type": "execute_result"
    }
   ],
   "source": [
    "# Matrix Condition Number Approximation\n",
    "x1 = 1\n",
    "x2 = 2 \n",
    "x3 = 4\n",
    "Ax1 = 30\n",
    "Ax2 = 20\n",
    "Ax3 = 80\n",
    "\n",
    "X = np.array([x1, x2, x3])\n",
    "AX = np.array([Ax1, Ax2, Ax3])\n",
    "A = AX/X\n",
    "np.max(A) / np.min(A)"
   ]
  },
  {
   "cell_type": "code",
   "execution_count": 16,
   "metadata": {},
   "outputs": [
    {
     "data": {
      "text/plain": [
       "0.03125"
      ]
     },
     "execution_count": 16,
     "metadata": {},
     "output_type": "execute_result"
    }
   ],
   "source": [
    "# Error prediction\n",
    "C = 0.5\n",
    "e0 = 0.5\n",
    "iteration = 4\n",
    "\n",
    "e = e0\n",
    "for i in range(iteration):\n",
    "    e *= C\n",
    "e"
   ]
  },
  {
   "cell_type": "code",
   "execution_count": 31,
   "metadata": {},
   "outputs": [
    {
     "name": "stdout",
     "output_type": "stream",
     "text": [
      "[[-2.]]\n",
      "[[-1.]]\n",
      "[[-1.]]\n"
     ]
    }
   ],
   "source": [
    "# Finite Difference Gradient\n",
    "x, y, z = symbols('x y z')\n",
    "X0 = np.array([1, 1, 1])\n",
    "phi = Matrix([x*y + x + z])\n",
    "h = 0.1\n",
    "\n",
    "# Forward\n",
    "\n",
    "phi0 = np.array(phi.subs({x:X0[0], y:X0[1], z:X0[2]})).astype(np.float64)\n",
    "for i in range(3):\n",
    "    a = np.zeros(3)\n",
    "    a[i] = h\n",
    "    X = X0 + a\n",
    "    phix = np.array(phi.subs({x:X[0], y:X[1], z:X[2]})).astype(np.float64)\n",
    "    print((phi0-phix)/h)\n",
    "\n",
    "# Backward\n",
    "\n",
    "# for i in range(3):\n",
    "#     a = np.zeros(3)\n",
    "#     a[i] = h\n",
    "#     X = X0 - a\n",
    "#     phix = np.array(phi.subs({x:X[0], y:X[1], z:X[2]})).astype(np.float64)\n",
    "#     print(-(phi0-phix)/h)"
   ]
  },
  {
   "cell_type": "code",
   "execution_count": 12,
   "metadata": {},
   "outputs": [
    {
     "name": "stdout",
     "output_type": "stream",
     "text": [
      "[[2.]]\n",
      "[[2.]]\n",
      "[[2.1]]\n"
     ]
    }
   ],
   "source": [
    "x, y, z = symbols('x y z')\n",
    "X0 = np.array([1, 1, 1])\n",
    "v = Matrix([2*x*y + z**2])\n",
    "h = 0.1\n",
    "\n",
    "v0 = np.array(v.subs({x:X0[0], y:X0[1], z:X0[2]})).astype(np.float64)\n",
    "for i in range(3):\n",
    "    a = np.zeros(3)\n",
    "    a[i] = h\n",
    "    X = X0 + a\n",
    "    vx = np.array(v.subs({x:X[0], y:X[1], z:X[2]})).astype(np.float64)\n",
    "    print((-v0+vx)/h)"
   ]
  },
  {
   "cell_type": "code",
   "execution_count": 32,
   "metadata": {},
   "outputs": [
    {
     "name": "stderr",
     "output_type": "stream",
     "text": [
      "<ipython-input-32-ae80513166ea>:17: RuntimeWarning: divide by zero encountered in true_divide\n",
      "  Sigma_p = 1 / Sigma.T\n"
     ]
    },
    {
     "data": {
      "text/plain": [
       "array([ 1.32      , -0.43111111,  0.10666667,  1.5       ])"
      ]
     },
     "execution_count": 32,
     "metadata": {},
     "output_type": "execute_result"
    }
   ],
   "source": [
    "# Least-Squares Minimum Norm Solution\n",
    "U = np.array([[0, 0, 0, 0],\n",
    "              [0, 1, 0, 0],\n",
    "              [0, 0, 1, 0],\n",
    "              [0, 0, 0, 1],\n",
    "              [1, 0, 0, 0]])\n",
    "Sigma = np.array([[9, 0, 0, 0],\n",
    "                  [0, 5, 0, 0],\n",
    "                  [0, 0, 4, 0],\n",
    "                  [0, 0, 0, 0]])\n",
    "VT = np.array([[0.00, -0.97, 0.24, 0.00],\n",
    "               [0.00, -0.24, -0.97, 0],\n",
    "               [0.66, 0.00, 0.00, 0.75],\n",
    "               [-0.75, 0.00, 0, 0.66]])\n",
    "b = np.array([7, 0, 8, 7, 4])\n",
    "\n",
    "Sigma_p = 1 / Sigma.T\n",
    "Sigma_p[Sigma_p == np.inf] = 0\n",
    "x = VT.T @ Sigma_p @ U.T @ b\n",
    "x"
   ]
  },
  {
   "cell_type": "code",
   "execution_count": 6,
   "metadata": {},
   "outputs": [
    {
     "data": {
      "text/plain": [
       "('0011001010000000000000000000000000000000000000000000000000000000000000000000000000000000000000000000',\n",
       " 7)"
      ]
     },
     "execution_count": 6,
     "metadata": {},
     "output_type": "execute_result"
    }
   ],
   "source": [
    "# Floating Point Precision\n",
    "decimal_to_floating_point(153.25, 100, 100)"
   ]
  },
  {
   "cell_type": "code",
   "execution_count": 7,
   "metadata": {},
   "outputs": [
    {
     "data": {
      "text/plain": [
       "array([0.28205128, 0.41025641, 0.30769231])"
      ]
     },
     "execution_count": 7,
     "metadata": {},
     "output_type": "execute_result"
    }
   ],
   "source": [
    "# Find Normalized Eigenvector G\n",
    "v = np.array([11,16,12])\n",
    "v/la.norm(v, 1)"
   ]
  },
  {
   "cell_type": "code",
   "execution_count": 10,
   "metadata": {},
   "outputs": [
    {
     "data": {
      "text/plain": [
       "0.058823529411764705"
      ]
     },
     "execution_count": 10,
     "metadata": {},
     "output_type": "execute_result"
    }
   ],
   "source": [
    "# Relative Error in Floating Point\n",
    "decimal_to_floating_point(8.5, 2, 100)\n",
    "(8.5-8)/8.5"
   ]
  },
  {
   "cell_type": "code",
   "execution_count": 28,
   "metadata": {},
   "outputs": [
    {
     "name": "stdout",
     "output_type": "stream",
     "text": [
      "[[1. 1.]\n",
      " [0. 1.]]\n",
      "[[7. 0.]\n",
      " [0. 6.]]\n"
     ]
    }
   ],
   "source": [
    "# Similarity Transformation of a Matrix\n",
    "A = np.array([[7, -1],\n",
    "              [0, 6]])\n",
    "D = np.diag(la.eig(A)[0])\n",
    "\n",
    "X0 = la.eig(A)[1]\n",
    "X = np.zeros_like(X0)\n",
    "for i in range(D.shape[0]):\n",
    "    X[:,i] = X0[:, i]/la.norm(X0[:, i], np.inf)\n",
    "\n",
    "print(X)\n",
    "print(D)"
   ]
  },
  {
   "cell_type": "code",
   "execution_count": 24,
   "metadata": {},
   "outputs": [
    {
     "data": {
      "text/plain": [
       "0.75"
      ]
     },
     "execution_count": 24,
     "metadata": {},
     "output_type": "execute_result"
    }
   ],
   "source": [
    "#2.84375\n",
    "#10.1100011\n",
    "\n",
    "(2.84375-2.75)*2*2*2"
   ]
  },
  {
   "cell_type": "code",
   "execution_count": 1,
   "metadata": {},
   "outputs": [
    {
     "data": {
      "text/plain": [
       "41"
      ]
     },
     "execution_count": 1,
     "metadata": {},
     "output_type": "execute_result"
    }
   ],
   "source": [
    "14+11+16"
   ]
  },
  {
   "cell_type": "code",
   "execution_count": 4,
   "metadata": {},
   "outputs": [
    {
     "data": {
      "text/plain": [
       "0.3902439024390244"
      ]
     },
     "execution_count": 4,
     "metadata": {},
     "output_type": "execute_result"
    }
   ],
   "source": [
    "16/41"
   ]
  },
  {
   "cell_type": "code",
   "execution_count": 5,
   "metadata": {},
   "outputs": [
    {
     "data": {
      "text/plain": [
       "8"
      ]
     },
     "execution_count": 5,
     "metadata": {},
     "output_type": "execute_result"
    }
   ],
   "source": [
    "import numpy as np\n",
    "len(np.unique([11.5,10.0,6.0,9.5,10.0,8.0,6.5,9.5,11.0,9.5,5.5]))"
   ]
  },
  {
   "cell_type": "code",
   "execution_count": null,
   "metadata": {},
   "outputs": [],
   "source": [
    "#1.171875\n",
    "\n",
    "#1.001011"
   ]
  },
  {
   "cell_type": "code",
   "execution_count": 15,
   "metadata": {},
   "outputs": [
    {
     "data": {
      "text/plain": [
       "0.171875"
      ]
     },
     "execution_count": 15,
     "metadata": {},
     "output_type": "execute_result"
    }
   ],
   "source": [
    "2**(-3)+2**(-5)+2**(-6)\n"
   ]
  },
  {
   "cell_type": "code",
   "execution_count": 17,
   "metadata": {},
   "outputs": [
    {
     "data": {
      "text/plain": [
       "0.015625"
      ]
     },
     "execution_count": 17,
     "metadata": {},
     "output_type": "execute_result"
    }
   ],
   "source": [
    "2**(-3)+2**(-4)-0.171875"
   ]
  },
  {
   "cell_type": "code",
   "execution_count": 18,
   "metadata": {},
   "outputs": [
    {
     "data": {
      "text/plain": [
       "0.015625"
      ]
     },
     "execution_count": 18,
     "metadata": {},
     "output_type": "execute_result"
    }
   ],
   "source": [
    "2**(-6)"
   ]
  },
  {
   "cell_type": "code",
   "execution_count": 19,
   "metadata": {},
   "outputs": [
    {
     "data": {
      "text/plain": [
       "13.45362404707371"
      ]
     },
     "execution_count": 19,
     "metadata": {},
     "output_type": "execute_result"
    }
   ],
   "source": [
    "(10**2+9**2)**0.5"
   ]
  },
  {
   "cell_type": "code",
   "execution_count": null,
   "metadata": {},
   "outputs": [],
   "source": [
    "# 168.125"
   ]
  },
  {
   "cell_type": "code",
   "execution_count": null,
   "metadata": {},
   "outputs": [],
   "source": [
    "10101000.001"
   ]
  },
  {
   "cell_type": "code",
   "execution_count": 30,
   "metadata": {},
   "outputs": [
    {
     "data": {
      "text/plain": [
       "168"
      ]
     },
     "execution_count": 30,
     "metadata": {},
     "output_type": "execute_result"
    }
   ],
   "source": [
    "2**(3)+2**(5)+2**(7)"
   ]
  },
  {
   "cell_type": "code",
   "execution_count": 34,
   "metadata": {},
   "outputs": [
    {
     "data": {
      "text/plain": [
       "0"
      ]
     },
     "execution_count": 34,
     "metadata": {},
     "output_type": "execute_result"
    }
   ],
   "source": [
    "A = np.array([1,2,3,4,5])\n",
    "B = np.argmin(A)\n",
    "B"
   ]
  },
  {
   "cell_type": "code",
   "execution_count": 35,
   "metadata": {},
   "outputs": [],
   "source": [
    "colors = ['red', 'yellow', 'blue', 'purple']"
   ]
  },
  {
   "cell_type": "code",
   "execution_count": 38,
   "metadata": {},
   "outputs": [
    {
     "data": {
      "text/plain": [
       "0.73"
      ]
     },
     "execution_count": 38,
     "metadata": {},
     "output_type": "execute_result"
    }
   ],
   "source": [
    "1-0.02-0.1-0.15"
   ]
  },
  {
   "cell_type": "code",
   "execution_count": 100,
   "metadata": {},
   "outputs": [
    {
     "name": "stdout",
     "output_type": "stream",
     "text": [
      "46.99999999999999\n",
      "37.273999999999994\n",
      "30.118419999999997\n",
      "24.900297\n",
      "21.112615098\n",
      "18.36970292954\n",
      "16.385611396705002\n",
      "14.951103061869947\n",
      "13.914105570364907\n",
      "13.164466202478273\n"
     ]
    }
   ],
   "source": [
    "import numpy as np\n",
    "\n",
    "A = np.array([60.0,72.0,30.0,58.0])\n",
    "\n",
    "M = np.array([\n",
    "    [0.74,0.02,0.00,0.02],\n",
    "    [0.03,0.58,0.10,0.10],\n",
    "    [0.12,0.20,0.60,0.15],\n",
    "    [0.11,0.20,0.30,0.73]\n",
    "    ])\n",
    "    \n",
    "threshold = 55.00/4\n",
    "    \n",
    "for i in range(1,100):\n",
    "    \n",
    "    A = M@A\n",
    "    print(A[0])\n",
    "    \n",
    "    if (A[0]<=threshold):\n",
    "        seconds = 10*i\n",
    "        bulbs = A\n",
    "        break\n",
    "    "
   ]
  },
  {
   "cell_type": "code",
   "execution_count": 94,
   "metadata": {},
   "outputs": [
    {
     "data": {
      "text/plain": [
       "array([ 13.1644662 ,  40.26523025,  62.79468269, 103.77562086])"
      ]
     },
     "execution_count": 94,
     "metadata": {},
     "output_type": "execute_result"
    }
   ],
   "source": [
    "A"
   ]
  },
  {
   "cell_type": "code",
   "execution_count": 98,
   "metadata": {},
   "outputs": [
    {
     "data": {
      "text/plain": [
       "array([47.  , 52.36, 48.3 , 72.34])"
      ]
     },
     "execution_count": 98,
     "metadata": {},
     "output_type": "execute_result"
    }
   ],
   "source": [
    "bulbs"
   ]
  },
  {
   "cell_type": "code",
   "execution_count": 110,
   "metadata": {},
   "outputs": [
    {
     "data": {
      "text/plain": [
       "array([103.77562086, 103.77562086,  62.79468269])"
      ]
     },
     "execution_count": 110,
     "metadata": {},
     "output_type": "execute_result"
    }
   ],
   "source": [
    "A[np.random.randint(0,4,3)]"
   ]
  },
  {
   "cell_type": "code",
   "execution_count": 112,
   "metadata": {},
   "outputs": [],
   "source": [
    "import numpy as np\n",
    "\n",
    "def losing_dice(dice_list):\n",
    "    \n",
    "    lose_probs = []\n",
    "    for dice in dice_list:\n",
    "        num_iter = 10000\n",
    "        num_lose = 0\n",
    "        for i in range(num_iter):\n",
    "            choice = dice[np.random.randint(0,len(dice),3)]\n",
    "            if choice[0]<choice[1] and choice[1]<choice[2]:\n",
    "                continue\n",
    "            elif choice[0]>choice[1] and choice[1]>choice[2]:\n",
    "                continue\n",
    "            else:\n",
    "                num_lose +=1\n",
    "        lose_probs.append(num_lose/num_iter)\n",
    "    \n",
    "    lose_probs = np.array(lose_probs)\n",
    "    # insert your code here\n",
    "    selected_die = dice[np.argmax(lose_probs)]\n",
    "    lose_prob  = max(lose_probs)\n",
    "\n",
    "    return selected_die, lose_prob"
   ]
  },
  {
   "cell_type": "code",
   "execution_count": 111,
   "metadata": {},
   "outputs": [],
   "source": [
    "dice_list = [\n",
    "      [1, 2, 3, 4, 5, 6],\n",
    "      [1, 1, 3, 5, 5],\n",
    "      [1, 2, 3, 4, 5, 6, 7, 8, 9, 10, 11, 12],\n",
    "    ]"
   ]
  },
  {
   "cell_type": "code",
   "execution_count": 117,
   "metadata": {},
   "outputs": [
    {
     "ename": "TypeError",
     "evalue": "only integer scalar arrays can be converted to a scalar index",
     "output_type": "error",
     "traceback": [
      "\u001b[0;31m---------------------------------------------------------------------------\u001b[0m",
      "\u001b[0;31mTypeError\u001b[0m                                 Traceback (most recent call last)",
      "\u001b[0;32m/var/folders/b9/d85h3q6n6x7_fg4hvy45z3v80000gn/T/ipykernel_25950/3141981705.py\u001b[0m in \u001b[0;36m<module>\u001b[0;34m\u001b[0m\n\u001b[0;32m----> 1\u001b[0;31m \u001b[0mchoice\u001b[0m \u001b[0;34m=\u001b[0m \u001b[0mdice_list\u001b[0m\u001b[0;34m[\u001b[0m\u001b[0;36m0\u001b[0m\u001b[0;34m]\u001b[0m\u001b[0;34m[\u001b[0m\u001b[0mnp\u001b[0m\u001b[0;34m.\u001b[0m\u001b[0mrandom\u001b[0m\u001b[0;34m.\u001b[0m\u001b[0mrandint\u001b[0m\u001b[0;34m(\u001b[0m\u001b[0;36m0\u001b[0m\u001b[0;34m,\u001b[0m\u001b[0mlen\u001b[0m\u001b[0;34m(\u001b[0m\u001b[0mdice_list\u001b[0m\u001b[0;34m[\u001b[0m\u001b[0;36m0\u001b[0m\u001b[0;34m]\u001b[0m\u001b[0;34m)\u001b[0m\u001b[0;34m,\u001b[0m\u001b[0;36m3\u001b[0m\u001b[0;34m)\u001b[0m\u001b[0;34m]\u001b[0m\u001b[0;34m\u001b[0m\u001b[0;34m\u001b[0m\u001b[0m\n\u001b[0m",
      "\u001b[0;31mTypeError\u001b[0m: only integer scalar arrays can be converted to a scalar index"
     ]
    }
   ],
   "source": [
    "     choice = dice_list[0][np.random.randint(0,len(dice_list[0]),3)]"
   ]
  },
  {
   "cell_type": "code",
   "execution_count": 126,
   "metadata": {},
   "outputs": [],
   "source": [
    "A = np.random.randint(0,9,1)"
   ]
  },
  {
   "cell_type": "code",
   "execution_count": 122,
   "metadata": {},
   "outputs": [],
   "source": [
    "dice_list = [1, 2, 3, 4, 5, 6]"
   ]
  },
  {
   "cell_type": "code",
   "execution_count": 127,
   "metadata": {},
   "outputs": [
    {
     "ename": "TypeError",
     "evalue": "'list' object is not callable",
     "output_type": "error",
     "traceback": [
      "\u001b[0;31m---------------------------------------------------------------------------\u001b[0m",
      "\u001b[0;31mTypeError\u001b[0m                                 Traceback (most recent call last)",
      "\u001b[0;32m/var/folders/b9/d85h3q6n6x7_fg4hvy45z3v80000gn/T/ipykernel_25950/914323960.py\u001b[0m in \u001b[0;36m<module>\u001b[0;34m\u001b[0m\n\u001b[0;32m----> 1\u001b[0;31m \u001b[0mdice_list\u001b[0m\u001b[0;34m(\u001b[0m\u001b[0mA\u001b[0m\u001b[0;34m)\u001b[0m\u001b[0;34m\u001b[0m\u001b[0;34m\u001b[0m\u001b[0m\n\u001b[0m",
      "\u001b[0;31mTypeError\u001b[0m: 'list' object is not callable"
     ]
    }
   ],
   "source": [
    "dice_list(A)"
   ]
  },
  {
   "cell_type": "code",
   "execution_count": null,
   "metadata": {},
   "outputs": [],
   "source": []
  }
 ],
 "metadata": {
  "interpreter": {
   "hash": "88279d2366fe020547cde40dd65aa0e3aa662a6ec1f3ca12d88834876c85e1a6"
  },
  "kernelspec": {
   "display_name": "Python 3 (ipykernel)",
   "language": "python",
   "name": "python3"
  },
  "language_info": {
   "codemirror_mode": {
    "name": "ipython",
    "version": 3
   },
   "file_extension": ".py",
   "mimetype": "text/x-python",
   "name": "python",
   "nbconvert_exporter": "python",
   "pygments_lexer": "ipython3",
   "version": "3.9.7"
  }
 },
 "nbformat": 4,
 "nbformat_minor": 2
}
